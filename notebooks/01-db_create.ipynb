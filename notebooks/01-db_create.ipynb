{
 "cells": [
  {
   "cell_type": "code",
   "execution_count": 12,
   "id": "c579e005",
   "metadata": {},
   "outputs": [],
   "source": [
    "import pandas as pd\n",
    "import sqlite3"
   ]
  },
  {
   "cell_type": "code",
   "execution_count": 13,
   "id": "60ef58b7",
   "metadata": {},
   "outputs": [],
   "source": [
    "conn = sqlite3.connect(\"../db/movielens.db\")"
   ]
  },
  {
   "cell_type": "code",
   "execution_count": 14,
   "id": "be4172be",
   "metadata": {},
   "outputs": [],
   "source": [
    "movies_path = \"../data/movies.dat\"\n",
    "ratings_path = \"../data/ratings.dat\"\n",
    "users_path = \"../data/users.dat\""
   ]
  },
  {
   "cell_type": "code",
   "execution_count": 15,
   "id": "c0fdba10",
   "metadata": {},
   "outputs": [
    {
     "data": {
      "text/plain": [
       "3883"
      ]
     },
     "execution_count": 15,
     "metadata": {},
     "output_type": "execute_result"
    }
   ],
   "source": [
    "movies = pd.read_csv(movies_path, sep=\"::\", engine=\"python\", names=[\"MovieID\", \"Title\", \"Genres\"])\n",
    "\n",
    "# Extract the year from the movies using regex and remove it from the title\n",
    "movies[\"Year\"] = movies[\"Title\"].str.extract(r\"\\((\\d{4})\\)\").astype(\"Int64\")\n",
    "movies[\"Title\"] = movies[\"Title\"].str.replace(r\"\\s*\\(\\d{4}\\)\", \"\", regex=True)\n",
    "\n",
    "movies.to_sql(\"movies\", conn, if_exists=\"replace\", index=False)"
   ]
  },
  {
   "cell_type": "code",
   "execution_count": 16,
   "id": "13f9b316",
   "metadata": {},
   "outputs": [
    {
     "data": {
      "text/plain": [
       "1000209"
      ]
     },
     "execution_count": 16,
     "metadata": {},
     "output_type": "execute_result"
    }
   ],
   "source": [
    "ratings = pd.read_csv(ratings_path, sep=\"::\", engine=\"python\", names=[\"UserID\", \"MovieID\", \"Rating\", \"Timestamp\"])\n",
    "ratings.to_sql(\"ratings\", conn, if_exists=\"replace\", index=False)"
   ]
  },
  {
   "cell_type": "code",
   "execution_count": 17,
   "id": "79073d66",
   "metadata": {},
   "outputs": [
    {
     "data": {
      "text/plain": [
       "6040"
      ]
     },
     "execution_count": 17,
     "metadata": {},
     "output_type": "execute_result"
    }
   ],
   "source": [
    "users = pd.read_csv(users_path, sep=\"::\", engine=\"python\", names=[\"UserID\", \"Gender\", \"Age\", \"Occupation\", \"Zipcode\"])\n",
    "users.to_sql(\"users\", conn, if_exists=\"replace\", index=False)"
   ]
  },
  {
   "cell_type": "code",
   "execution_count": 18,
   "id": "e0ee781f",
   "metadata": {},
   "outputs": [
    {
     "name": "stdout",
     "output_type": "stream",
     "text": [
      "📦 Tables in the database:\n",
      "- movies\n",
      "- ratings\n",
      "- users\n"
     ]
    }
   ],
   "source": [
    "cursor = conn.cursor()\n",
    "\n",
    "# Checking if the tables have been saved to the database\n",
    "cursor.execute(\"SELECT name from sqlite_master where type='table';\")\n",
    "tables = cursor.fetchall()\n",
    "print(\"📦 Tables in the database:\")\n",
    "for table in tables:\n",
    "    print(\"-\", table[0])"
   ]
  },
  {
   "cell_type": "code",
   "execution_count": 19,
   "id": "c1189f1c",
   "metadata": {},
   "outputs": [],
   "source": [
    "conn.close()"
   ]
  }
 ],
 "metadata": {
  "kernelspec": {
   "display_name": "Python 3",
   "language": "python",
   "name": "python3"
  },
  "language_info": {
   "codemirror_mode": {
    "name": "ipython",
    "version": 3
   },
   "file_extension": ".py",
   "mimetype": "text/x-python",
   "name": "python",
   "nbconvert_exporter": "python",
   "pygments_lexer": "ipython3",
   "version": "3.12.2"
  }
 },
 "nbformat": 4,
 "nbformat_minor": 5
}
